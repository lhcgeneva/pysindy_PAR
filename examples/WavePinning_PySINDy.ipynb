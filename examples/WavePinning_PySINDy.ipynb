{
 "cells": [
  {
   "cell_type": "code",
   "execution_count": null,
   "id": "f3edc590-5c8c-4ab0-9b8d-94a98171fa70",
   "metadata": {
    "tags": []
   },
   "outputs": [],
   "source": [
    "import matplotlib.pyplot as plt\n",
    "from mpl_toolkits.mplot3d import Axes3D\n",
    "import numpy as np\n",
    "from sklearn.linear_model import Lasso\n",
    "from scipy.io import loadmat\n",
    "from sklearn.metrics import mean_squared_error\n",
    "from scipy.integrate import solve_ivp\n",
    "\n",
    "import pysindy as ps\n",
    "\n",
    "# Ignore matplotlib deprecation warnings\n",
    "import warnings\n",
    "warnings.filterwarnings(\"ignore\", category=UserWarning)\n",
    "\n",
    "# Seed the random number generators for reproducibility\n",
    "np.random.seed(100)\n",
    "\n",
    "integrator_keywords = {}\n",
    "integrator_keywords['rtol'] = 1e-12\n",
    "integrator_keywords['method'] = 'LSODA'\n",
    "integrator_keywords['atol'] = 1e-12"
   ]
  },
  {
   "cell_type": "markdown",
   "id": "def06cbb-cacd-4ecb-a49d-3e12b4845a58",
   "metadata": {
    "tags": []
   },
   "source": [
    "# Test PDE functionality on 2D Reaction-Diffusion system\n",
    "This 2D system is significantly more complicated. The reaction-diffusion system exhibits spiral waves on a periodic domain,and the PDEs are:\n",
    "$$u_t = 0.1\\nabla^2 u + (1-A^2)u +\\beta A^2v$$\n",
    "$$v_t = 0.1\\nabla^2 v - \\beta A^2 u + (1-A^2)v$$\n",
    "$$A^2 = u^2 + v^2.$$\n",
    "The main change will be a significantly larger library... cubic terms in (u, v) and all their first and second order derivatives. We will also need to generate the data because saving a high-resolution form of the data makes a fairly large file."
   ]
  },
  {
   "cell_type": "code",
   "execution_count": null,
   "id": "c3231b89-06ff-42fe-a682-eff1ec36a347",
   "metadata": {
    "tags": []
   },
   "outputs": [],
   "source": [
    "from numpy.fft import fft2, ifft2\n",
    "integrator_keywords['method'] = 'RK45'  # switch to RK45 integrator\n",
    "\n",
    "\n",
    "# Define the reaction-diffusion PDE in the Fourier (kx, ky) space\n",
    "def reaction_diffusion(t, uvt, K22, d1, d2, beta, n, N):\n",
    "    ut = np.reshape(uvt[:N], (n, n))\n",
    "    vt = np.reshape(uvt[N : 2 * N], (n, n))\n",
    "    u = np.real(ifft2(ut))\n",
    "    v = np.real(ifft2(vt))\n",
    "    vu6 = v*u ** 6\n",
    "    vu4 = v*u ** 4\n",
    "    vu2 = v*u ** 2\n",
    "    utrhs = np.reshape((fft2(beta*v + vu2 - vu4 + vu6 - u)), (N, 1)) # Shall we try real term and then get back expansion?\n",
    "    vtrhs = np.reshape((fft2(-beta*v  - vu2 + vu4 - vu6 + u)), (N, 1))\n",
    "    uvt_reshaped = np.reshape(uvt, (len(uvt), 1))\n",
    "    uvt_updated = np.squeeze(\n",
    "        np.vstack(\n",
    "            (-d1 * K22 * uvt_reshaped[:N] + utrhs, \n",
    "             -d2 * K22 * uvt_reshaped[N:] + vtrhs)\n",
    "        )\n",
    "    )\n",
    "    return uvt_updated\n",
    "\n",
    "\n",
    "# Generate the data\n",
    "t = np.linspace(0, 20, int(10 / 0.05))\n",
    "d1 = 10\n",
    "d2 = 0.1\n",
    "beta = 0.067\n",
    "L = 20  # Domain size in X and Y directions\n",
    "n = 128  # Number of spatial points in each direction\n",
    "N = n * n\n",
    "x_uniform = np.linspace(-L / 2, L / 2, n + 1)\n",
    "x = x_uniform[:n]\n",
    "y = x_uniform[:n]\n",
    "n2 = int(n / 2)\n",
    "# Define Fourier wavevectors (kx, ky)\n",
    "kx = (2 * np.pi / L) * np.hstack((np.linspace(0, n2 - 1, n2), \n",
    "                                  np.linspace(-n2, -1, n2)))\n",
    "ky = kx\n",
    "# Get 2D meshes in (x, y) and (kx, ky)\n",
    "X, Y = np.meshgrid(x, y)\n",
    "KX, KY = np.meshgrid(kx, ky)\n",
    "K2 = KX ** 2 + KY ** 2\n",
    "K22 = np.reshape(K2, (N, 1))\n",
    "\n",
    "m = 1  # number of spirals\n",
    "\n",
    "# define our solution vectors\n",
    "u = np.zeros((len(x), len(y), len(t)))\n",
    "v = np.zeros((len(x), len(y), len(t)))\n",
    "\n",
    "# Initial conditions\n",
    "u[:, :, 0] = 0.05\n",
    "v[:, :, 0] = 1-np.tanh(np.sqrt(X ** 2 ))+0.03"
   ]
  },
  {
   "cell_type": "code",
   "execution_count": null,
   "id": "6a2cbf36-266b-45a0-b1be-979a5a549ba6",
   "metadata": {
    "tags": []
   },
   "outputs": [],
   "source": [
    "# uvt is the solution vector in Fourier space, so below\n",
    "# we are initializing the 2D FFT of the initial condition, uvt0\n",
    "uvt0 = np.squeeze(\n",
    "    np.hstack(\n",
    "        (np.reshape(fft2(u[:, :, 0]), (1, N)), \n",
    "         np.reshape(fft2(v[:, :, 0]), (1, N)))\n",
    "    )\n",
    ")\n",
    "\n",
    "# Solve the PDE in the Fourier space, where it reduces to system of ODEs\n",
    "uvsol = solve_ivp(\n",
    "    reaction_diffusion, (t[0], t[-1]), y0=uvt0, t_eval=t, \n",
    "    args=(K22, d1, d2, beta, n, N), **integrator_keywords\n",
    ")\n",
    "uvsol = uvsol.y"
   ]
  },
  {
   "cell_type": "code",
   "execution_count": null,
   "id": "d869675f-6806-48f3-8523-51425d07654f",
   "metadata": {
    "tags": []
   },
   "outputs": [],
   "source": [
    "# Reshape things and ifft back into (x, y, t) space from (kx, ky, t) space\n",
    "for j in range(len(t)):\n",
    "    ut = np.reshape(uvsol[:N, j], (n, n))\n",
    "    vt = np.reshape(uvsol[N:, j], (n, n))\n",
    "    u[:, :, j] = np.real(ifft2(ut))\n",
    "    v[:, :, j] = np.real(ifft2(vt))"
   ]
  },
  {
   "cell_type": "code",
   "execution_count": null,
   "id": "10270a59-8fb6-4bac-9681-fb864ca65cb5",
   "metadata": {
    "tags": []
   },
   "outputs": [],
   "source": [
    "# Plot to check if spiral is nicely reproduced\n",
    "plt.figure(figsize=(10, 4))\n",
    "plt.subplot(1, 2, 1)\n",
    "plt.pcolor(X, Y, u[:, :, 2])\n",
    "plt.xlabel('x', fontsize=16)\n",
    "plt.ylabel('y', fontsize=16)\n",
    "plt.title('u(x, y, t=0.5)', fontsize=16)\n",
    "plt.subplot(1, 2, 2)\n",
    "plt.pcolor(X, Y, v[:, :, 2])\n",
    "plt.xlabel('x', fontsize=16)\n",
    "plt.ylabel('y', fontsize=16)\n",
    "ax = plt.gca()\n",
    "ax.set_yticklabels([])\n",
    "plt.title('v(x, y, t=0.5)', fontsize=16)\n",
    "\n",
    "dt = t[1] - t[0]\n",
    "dx = x[1] - x[0]\n",
    "dy = y[1] - y[0]\n",
    "\n",
    "u_sol = u\n",
    "v_sol = v"
   ]
  },
  {
   "cell_type": "code",
   "execution_count": null,
   "id": "c63a0c11-2e53-42d0-b85f-5e62102cd915",
   "metadata": {
    "tags": []
   },
   "outputs": [],
   "source": [
    "plt.plot([sum(u[50, :, j])+sum(v[50, :, j]) for j in range(200)])\n",
    "plt.plot([sum(u[50, :, j]) for j in range(200)])\n",
    "plt.plot([sum(v[50, :, j]) for j in range(200)])\n",
    "plt.show()"
   ]
  },
  {
   "cell_type": "code",
   "execution_count": null,
   "id": "e1c060a6-6728-42d0-a8ee-a27b9f16ff62",
   "metadata": {
    "tags": []
   },
   "outputs": [],
   "source": [
    "plt.plot(u[50, :, ::10])\n",
    "plt.show()\n",
    "plt.plot(v[50, :, ::10])\n",
    "plt.show()"
   ]
  },
  {
   "cell_type": "code",
   "execution_count": null,
   "id": "a11a2666-09ec-4bb4-b144-7ad23abcfbc0",
   "metadata": {
    "tags": []
   },
   "outputs": [],
   "source": [
    "# Compute u_t from generated solution\n",
    "u = np.zeros((n, n, len(t), 2))\n",
    "u[:, :, :, 0] = u_sol\n",
    "u[:, :, :, 1] = v_sol\n",
    "u_dot = ps.FiniteDifference(axis=2)._differentiate(u, dt)\n",
    "\n",
    "# Choose 60 % of data for training because data is big... \n",
    "# can only randomly subsample if you are passing u_dot to model.fit!!!\n",
    "train = np.random.choice(len(t), int(len(t) * 0.6), replace=False)\n",
    "test = [i for i in np.arange(len(t)) if i not in train]\n",
    "u_train = u[:, :, train, :]\n",
    "u_test = u[:, :, test, :]\n",
    "u_dot_train = u_dot[:, :, train, :]\n",
    "u_dot_test = u_dot[:, :, test, :]\n",
    "t_train = t[train]\n",
    "t_test = t[test]\n",
    "spatial_grid = np.asarray([X, Y]).T"
   ]
  },
  {
   "cell_type": "code",
   "execution_count": null,
   "id": "e81afd23-f518-4696-9404-8b3cf399ad0f",
   "metadata": {
    "tags": []
   },
   "outputs": [],
   "source": [
    "# Odd polynomial terms in (u, v), up to second order derivatives in (u, v)\n",
    "library_functions = [\n",
    "    lambda x: x,\n",
    "    lambda x, y: y * x * x,\n",
    "    lambda x, y: y * x * x * x * x,\n",
    "    lambda x, y: y * x * x * x * x * x * x,\n",
    "]\n",
    "library_function_names = [\n",
    "    lambda x: x,\n",
    "    lambda x, y: y + x + x,\n",
    "    lambda x, y: y + x + x + x + x,\n",
    "    lambda x, y: y + x + x + x + x + x + x,\n",
    "]\n",
    "pde_lib = ps.PDELibrary(\n",
    "    library_functions=library_functions,\n",
    "    function_names=library_function_names,\n",
    "    derivative_order=2,\n",
    "    spatial_grid=spatial_grid,\n",
    "    include_bias=True,\n",
    "    include_interaction=False,\n",
    "    is_uniform=True,\n",
    "    periodic=True,\n",
    ")"
   ]
  },
  {
   "cell_type": "code",
   "execution_count": null,
   "id": "b21e6776-0e57-4d47-9ccc-b69668e619f5",
   "metadata": {
    "tags": []
   },
   "outputs": [],
   "source": [
    "print('STLSQ model: ')\n",
    "optimizer = ps.STLSQ(threshold=50, alpha=1e-5, \n",
    "                     normalize_columns=True, max_iter=200)\n",
    "model = ps.SINDy(feature_library=pde_lib, optimizer=optimizer)\n",
    "model.fit(u_train, x_dot=u_dot_train)\n",
    "model.print()\n",
    "u_dot_stlsq = model.predict(u_test)\n",
    "\n",
    "print('SR3 model, L0 norm: ')\n",
    "optimizer = ps.SR3(\n",
    "    threshold=60,\n",
    "    max_iter=1000,\n",
    "    tol=1e-10,\n",
    "    nu=1,\n",
    "    thresholder=\"l0\",\n",
    "    normalize_columns=True,\n",
    ")\n",
    "model = ps.SINDy(feature_library=pde_lib, optimizer=optimizer)\n",
    "model.fit(u_train, x_dot=u_dot_train)\n",
    "model.print()\n",
    "u_dot_sr3 = model.predict(u_test)\n",
    "\n",
    "print('SR3 model, L1 norm: ')\n",
    "optimizer = ps.SR3(\n",
    "    threshold=40,\n",
    "    max_iter=1000,\n",
    "    tol=1e-10,\n",
    "    nu=1e2,\n",
    "    thresholder=\"l1\",\n",
    "    normalize_columns=True,\n",
    ")\n",
    "model = ps.SINDy(feature_library=pde_lib, optimizer=optimizer)\n",
    "model.fit(u_train, x_dot=u_dot_train)\n",
    "model.print()\n",
    "\n",
    "print('Constrained SR3 model, L0 norm: ')\n",
    "feature_names = np.asarray(model.get_feature_names())\n",
    "n_features = len(feature_names)\n",
    "n_targets = u_train.shape[-1]\n",
    "constraint_rhs = np.zeros(2)\n",
    "constraint_lhs = np.zeros((2, n_targets * n_features))\n",
    "\n",
    "# (u_xx coefficient) - (u_yy coefficient) = 0\n",
    "constraint_lhs[0, 11] = 1\n",
    "constraint_lhs[0, 15] = -1\n",
    "# (v_xx coefficient) - (v_yy coefficient) = 0\n",
    "constraint_lhs[1, n_features + 11] = 1\n",
    "constraint_lhs[1, n_features + 15] = -1\n",
    "optimizer = ps.ConstrainedSR3(\n",
    "    threshold=.05,\n",
    "    max_iter=4000,\n",
    "    tol=1e-10,\n",
    "    nu=1,\n",
    "    thresholder=\"l0\",\n",
    "    normalize_columns=False,\n",
    "    constraint_rhs=constraint_rhs,\n",
    "    constraint_lhs=constraint_lhs,\n",
    ")\n",
    "model = ps.SINDy(feature_library=pde_lib, optimizer=optimizer)\n",
    "model.fit(u_train, x_dot=u_dot_train)\n",
    "model.print()\n",
    "u_dot_constrained_sr3 = model.predict(u_test)"
   ]
  },
  {
   "cell_type": "code",
   "execution_count": null,
   "id": "207854ae-8438-41f0-959a-cdb313b352a3",
   "metadata": {},
   "outputs": [],
   "source": [
    "feature_names"
   ]
  },
  {
   "cell_type": "code",
   "execution_count": null,
   "id": "0632b610-838f-4612-89f8-2ba3483e3548",
   "metadata": {
    "tags": []
   },
   "outputs": [],
   "source": [
    "u_train.shape[-1]"
   ]
  },
  {
   "cell_type": "code",
   "execution_count": null,
   "id": "9d9d5347-b480-4ae2-a92c-9d8c7fa38109",
   "metadata": {
    "tags": []
   },
   "outputs": [],
   "source": [
    "n_targets"
   ]
  },
  {
   "cell_type": "code",
   "execution_count": null,
   "id": "c1e942ca-2ea0-4e87-bb37-7be52b4b1ba2",
   "metadata": {
    "tags": []
   },
   "outputs": [],
   "source": [
    "n_features"
   ]
  },
  {
   "cell_type": "code",
   "execution_count": null,
   "id": "cf88e303-851c-4cfb-b654-a187ecd1ab85",
   "metadata": {
    "tags": []
   },
   "outputs": [],
   "source": [
    "print('Constrained SR3 model, L0 norm: ')\n",
    "feature_names = np.asarray(model.get_feature_names())\n",
    "n_features = len(feature_names)\n",
    "n_targets = u_train.shape[-1]\n",
    "constraint_rhs = np.zeros(20)\n",
    "constraint_lhs = np.zeros((20, n_targets * n_features))"
   ]
  },
  {
   "cell_type": "code",
   "execution_count": null,
   "id": "41cdf27d-3c17-409a-952f-e6ead5d404cc",
   "metadata": {
    "tags": []
   },
   "outputs": [],
   "source": [
    "constraint_lhs[0, 1] = 1\n",
    "# constraint_lhs[0, n_features + 1] = 1\n",
    "constraint_rhs[0]=-1\n",
    "\n",
    "constraint_lhs[1, 2] = 1\n",
    "# constraint_lhs[1, n_features + 2] = 1\n",
    "constraint_rhs[1]=0.067\n",
    "\n",
    "constraint_lhs[2, 3] = 1\n",
    "constraint_lhs[2, n_features + 3] = 1\n",
    "constraint_lhs[3, 4] = 1\n",
    "constraint_lhs[3, n_features + 4] = 1\n",
    "constraint_lhs[4, 5] = 1\n",
    "constraint_lhs[4, n_features + 5] = 1\n",
    "constraint_lhs[5, 6] = 1\n",
    "constraint_lhs[5, n_features + 6] = 1\n",
    "constraint_lhs[6, 7] = 1\n",
    "constraint_lhs[7, n_features + 7] = 1\n",
    "constraint_lhs[8, n_features + 8] = 1\n",
    "constraint_lhs[9, 9] = 1\n",
    "constraint_lhs[10, 11] = 1\n",
    "constraint_lhs[11, 12] = 1\n",
    "constraint_lhs[12, 13] = 1\n",
    "constraint_lhs[13, 14] = 1\n",
    "constraint_lhs[14, 15] = 1\n",
    "\n",
    "\n",
    "constraint_lhs[15, 0] = 1\n",
    "constraint_lhs[16, n_features] = 1\n",
    "constraint_lhs[17, n_features+1] = 1\n",
    "constraint_rhs[17] = 1\n",
    "constraint_lhs[18, n_features+2] = 1\n",
    "constraint_rhs[18] = -0.067\n",
    "constraint_lhs[19, 8] = 1\n",
    "constraint_rhs[19] = 10\n"
   ]
  },
  {
   "cell_type": "code",
   "execution_count": null,
   "id": "1c6dff47-acaf-47e4-9ac2-3923f2e110f9",
   "metadata": {
    "tags": []
   },
   "outputs": [],
   "source": [
    "initial_guess = np.array([[0, -1, 0.67, 1, -1, 1, 0, 0, 10, 0, 0, 0, 0, 0, 0, 0],\n",
    "                [0, 1, -0.67, -1, +1, -1, 0, 0, 0, 0.1, 0, 0, 0, 0, 0, 0]])\n",
    "\n",
    "optimizer = ps.ConstrainedSR3(\n",
    "    max_iter=4000,\n",
    "    tol=1e-10,\n",
    "    nu=1,\n",
    "    thresholder=\"l0\",\n",
    "    normalize_columns=False,\n",
    "    constraint_rhs=constraint_rhs,\n",
    "    constraint_lhs=constraint_lhs,\n",
    ")\n",
    "model = ps.SINDy(feature_library=pde_lib, optimizer=optimizer)\n",
    "model.fit(u_train, x_dot=u_dot_train)\n",
    "model.print()\n",
    "u_dot_constrained_sr3 = model.predict(u_test)"
   ]
  },
  {
   "cell_type": "code",
   "execution_count": null,
   "id": "a2cf98ba-2c88-462b-b6d6-40d32e466162",
   "metadata": {},
   "outputs": [],
   "source": []
  }
 ],
 "metadata": {
  "kernelspec": {
   "display_name": "Python 3 (ipykernel)",
   "language": "python",
   "name": "python3"
  },
  "language_info": {
   "codemirror_mode": {
    "name": "ipython",
    "version": 3
   },
   "file_extension": ".py",
   "mimetype": "text/x-python",
   "name": "python",
   "nbconvert_exporter": "python",
   "pygments_lexer": "ipython3",
   "version": "3.11.5"
  }
 },
 "nbformat": 4,
 "nbformat_minor": 5
}
